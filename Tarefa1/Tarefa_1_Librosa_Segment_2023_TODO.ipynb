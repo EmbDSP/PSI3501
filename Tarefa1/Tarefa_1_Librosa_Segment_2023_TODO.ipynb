{
 "cells": [
  {
   "cell_type": "markdown",
   "metadata": {},
   "source": [
    "# PSI5123 - Aprendizagem de Máquina de Sinais de Áudio e Voz"
   ]
  },
  {
   "cell_type": "markdown",
   "metadata": {
    "id": "RiEEQ6jSTX8u"
   },
   "source": [
    "## Librosa"
   ]
  },
  {
   "cell_type": "markdown",
   "metadata": {
    "id": "xSMwLh6STX8u"
   },
   "source": [
    "Librosa é uma biblioteca em Python para análise de áudio (numpythonic). Em especial utilizada para aplicações de Music Information Retrieval (MIR).  "
   ]
  },
  {
   "cell_type": "code",
   "execution_count": null,
   "metadata": {
    "id": "27IMqRFhTX8u"
   },
   "outputs": [],
   "source": [
    "%matplotlib inline\n",
    "\n",
    "import librosa\n",
    "import numpy as np\n",
    "import matplotlib.pyplot as plt"
   ]
  },
  {
   "cell_type": "code",
   "execution_count": null,
   "metadata": {
    "id": "_fk08bbkTX8x"
   },
   "outputs": [],
   "source": [
    "x, sr = librosa.load('SA1.WAV')"
   ]
  },
  {
   "cell_type": "code",
   "execution_count": null,
   "metadata": {
    "id": "JAtnS9iQTX8x"
   },
   "outputs": [],
   "source": [
    "x.shape"
   ]
  },
  {
   "cell_type": "code",
   "execution_count": null,
   "metadata": {
    "id": "4jAMr9wRTX8x"
   },
   "outputs": [],
   "source": [
    "sr"
   ]
  },
  {
   "cell_type": "code",
   "execution_count": null,
   "metadata": {
    "id": "0CXpFrmhTX8x"
   },
   "outputs": [],
   "source": [
    "x, sr = librosa.load('SA1.WAV', sr = 16000)"
   ]
  },
  {
   "cell_type": "code",
   "execution_count": null,
   "metadata": {
    "id": "IXV_CliWTX8y"
   },
   "outputs": [],
   "source": [
    "x.shape"
   ]
  },
  {
   "cell_type": "code",
   "execution_count": null,
   "metadata": {
    "id": "qsNTdTkHTX8y"
   },
   "outputs": [],
   "source": [
    "sr"
   ]
  },
  {
   "cell_type": "code",
   "execution_count": null,
   "metadata": {
    "id": "4Cg-PiQoTX8y"
   },
   "outputs": [],
   "source": [
    "librosa.display.waveshow(x,sr=sr)"
   ]
  },
  {
   "cell_type": "code",
   "execution_count": null,
   "metadata": {
    "id": "mbAaBDm4TX8z"
   },
   "outputs": [],
   "source": [
    "np.shape(x)[0]"
   ]
  },
  {
   "cell_type": "code",
   "execution_count": null,
   "metadata": {
    "id": "zxSOHTzhTX8z"
   },
   "outputs": [],
   "source": [
    "x.shape[0]"
   ]
  },
  {
   "cell_type": "code",
   "execution_count": null,
   "metadata": {
    "id": "xxjTFjoxTX8z"
   },
   "outputs": [],
   "source": [
    "# Time vector\n",
    "t = np.arange(0,x.shape[0])/sr"
   ]
  },
  {
   "cell_type": "code",
   "execution_count": null,
   "metadata": {
    "id": "Nsv1lfoWTX8z"
   },
   "outputs": [],
   "source": [
    "t"
   ]
  },
  {
   "cell_type": "code",
   "execution_count": null,
   "metadata": {
    "id": "scc09KudTX80"
   },
   "outputs": [],
   "source": [
    "t.shape[0]"
   ]
  },
  {
   "cell_type": "code",
   "execution_count": null,
   "metadata": {
    "id": "6CiAe60cTX80"
   },
   "outputs": [],
   "source": [
    "plt.plot(t,x)\n",
    "plt.xlabel('Time (s)')\n",
    "plt.ylabel('Amplitude')"
   ]
  },
  {
   "cell_type": "code",
   "execution_count": null,
   "metadata": {
    "id": "_SD_1z98TX80"
   },
   "outputs": [],
   "source": [
    "t = np.linspace(0,x.shape[0]/sr, x.shape[0])"
   ]
  },
  {
   "cell_type": "code",
   "execution_count": null,
   "metadata": {
    "id": "lFLa4il9TX81"
   },
   "outputs": [],
   "source": [
    "t.shape"
   ]
  },
  {
   "cell_type": "code",
   "execution_count": null,
   "metadata": {
    "id": "r_b1ESZNTX81"
   },
   "outputs": [],
   "source": [
    "fig, ax = plt.subplots()\n",
    "ax.set(xlim=[0.46, 0.49])\n",
    "librosa.display.waveshow(x, sr=sr, ax=ax)"
   ]
  },
  {
   "cell_type": "markdown",
   "metadata": {
    "id": "mdCIp4Q6TX81"
   },
   "source": [
    "### IPython Display"
   ]
  },
  {
   "cell_type": "code",
   "execution_count": null,
   "metadata": {
    "id": "pmARboV8TX81"
   },
   "outputs": [],
   "source": [
    "import IPython.display as ipd"
   ]
  },
  {
   "cell_type": "code",
   "execution_count": null,
   "metadata": {
    "id": "n-2_ZXxSTX82"
   },
   "outputs": [],
   "source": [
    "ipd.Audio(x, rate = sr)\n",
    "# She had your dark suit in greasy wash water all year."
   ]
  },
  {
   "cell_type": "markdown",
   "metadata": {
    "id": "XdXwLPzJmduY"
   },
   "source": [
    "# Segmentação\n",
    "\n",
    "\"Short-time\" processing methods -> segmentos do sinal são \"isolados\" e \"processados\".\n",
    "\n",
    "Os segmentos geralmente possuem sobreposição entre si.\n",
    "\n",
    "Exemplo. Considere um vetor $\\textbf{x}$ = [0, 1, 2, 3, 4, 5, 6] que precisa ser segmentado (framed) em três partes (tamanho do frame igual a 3) com salto (hop length) igual 2. O resultado seria: \n",
    "\n",
    "[[0, 1, 2], [2, 3, 4], [4, 5, 6]]"
   ]
  },
  {
   "cell_type": "markdown",
   "metadata": {
    "id": "r5kvbPBllhF8",
    "tags": []
   },
   "source": [
    "**Librosa function**"
   ]
  },
  {
   "cell_type": "code",
   "execution_count": null,
   "metadata": {
    "id": "kzrQM4wQm04m"
   },
   "outputs": [],
   "source": [
    "x = np.array([0, 1, 2, 3, 4, 5, 6])"
   ]
  },
  {
   "cell_type": "code",
   "execution_count": null,
   "metadata": {},
   "outputs": [],
   "source": [
    "x.shape"
   ]
  },
  {
   "cell_type": "code",
   "execution_count": null,
   "metadata": {
    "id": "b0t74xjfm6EK"
   },
   "outputs": [],
   "source": [
    "frames = librosa.util.frame(x, frame_length = 3, hop_length = 2)"
   ]
  },
  {
   "cell_type": "code",
   "execution_count": null,
   "metadata": {
    "id": "SgaZ2Sjfm91W"
   },
   "outputs": [],
   "source": [
    "frames"
   ]
  },
  {
   "cell_type": "code",
   "execution_count": null,
   "metadata": {},
   "outputs": [],
   "source": [
    "frames.T"
   ]
  },
  {
   "cell_type": "code",
   "execution_count": null,
   "metadata": {},
   "outputs": [],
   "source": [
    "x = np.array([0, 1, 2, 3, 4, 5, 6, 7])"
   ]
  },
  {
   "cell_type": "code",
   "execution_count": null,
   "metadata": {},
   "outputs": [],
   "source": [
    "frames = librosa.util.frame(x, frame_length = 3, hop_length = 2)"
   ]
  },
  {
   "cell_type": "code",
   "execution_count": null,
   "metadata": {},
   "outputs": [],
   "source": [
    "frames.T"
   ]
  },
  {
   "cell_type": "code",
   "execution_count": null,
   "metadata": {},
   "outputs": [],
   "source": [
    "x = librosa.util.fix_length(x, size=9)"
   ]
  },
  {
   "cell_type": "code",
   "execution_count": null,
   "metadata": {},
   "outputs": [],
   "source": [
    "x"
   ]
  },
  {
   "cell_type": "code",
   "execution_count": null,
   "metadata": {},
   "outputs": [],
   "source": [
    "frames = librosa.util.frame(x, frame_length = 3, hop_length = 2)"
   ]
  },
  {
   "cell_type": "code",
   "execution_count": null,
   "metadata": {},
   "outputs": [],
   "source": [
    "frames.T"
   ]
  },
  {
   "cell_type": "markdown",
   "metadata": {},
   "source": [
    "#### Centralização de índice (Centered = True)\n",
    "\n",
    "O índice $\\hat{n}$ pode possuir alinhamento à esquerda, central (i.e., centralizado), ou à direita. "
   ]
  },
  {
   "cell_type": "code",
   "execution_count": null,
   "metadata": {},
   "outputs": [],
   "source": [
    "x = np.array([0, 1, 2, 3, 4, 5, 6])"
   ]
  },
  {
   "cell_type": "code",
   "execution_count": null,
   "metadata": {},
   "outputs": [],
   "source": [
    "win_length = 3\n",
    "hop_length = 1"
   ]
  },
  {
   "cell_type": "markdown",
   "metadata": {},
   "source": [
    "Exemplo. Considere um vetor $\\textbf{x}$ = [0, 1, 2, 3, 4, 5, 6] com segmentação \"centralizada\", janela de 3 e salto de 1:\n",
    "\n",
    "[[0 0 1], [0 1 2], [1 2 3], [2 3 4], [3 4 5], [4 5 6], [5 6 0]]"
   ]
  },
  {
   "cell_type": "code",
   "execution_count": null,
   "metadata": {},
   "outputs": [],
   "source": [
    "x_pad = np.pad(x, (win_length//2, win_length//2), 'constant', constant_values=(0,0))"
   ]
  },
  {
   "cell_type": "code",
   "execution_count": null,
   "metadata": {},
   "outputs": [],
   "source": [
    "x_pad"
   ]
  },
  {
   "cell_type": "code",
   "execution_count": null,
   "metadata": {},
   "outputs": [],
   "source": [
    "frames = librosa.util.frame(x_pad, frame_length = win_length, hop_length = hop_length)"
   ]
  },
  {
   "cell_type": "code",
   "execution_count": null,
   "metadata": {},
   "outputs": [],
   "source": [
    "frames.T"
   ]
  },
  {
   "cell_type": "code",
   "execution_count": null,
   "metadata": {},
   "outputs": [],
   "source": [
    "n_frames = int(((len(x_pad) - (win_length - 1) - 1) / hop_length) + 1)\n",
    "n_frames"
   ]
  },
  {
   "cell_type": "code",
   "execution_count": null,
   "metadata": {},
   "outputs": [],
   "source": [
    "win_length = 4\n",
    "hop_length = 1"
   ]
  },
  {
   "cell_type": "markdown",
   "metadata": {},
   "source": [
    "Exemplo. Considere um vetor x = [0, 1, 2, 3, 4, 5, 6] com segmentação \"centralizada\", janela de 4 e salto de 1:\n",
    "\n",
    "[[0 0 0 1], [0 0 1 2 ], [0 1 2 3], [1 2 3 4], [2 3 4 5 ], [3 4 5 6], [4 5 6 0], [5 6 0 0]]"
   ]
  },
  {
   "cell_type": "code",
   "execution_count": null,
   "metadata": {},
   "outputs": [],
   "source": [
    "x_pad = np.pad(x, (win_length//2, win_length//2), 'constant', constant_values=(0,0))"
   ]
  },
  {
   "cell_type": "code",
   "execution_count": null,
   "metadata": {},
   "outputs": [],
   "source": [
    "x_pad"
   ]
  },
  {
   "cell_type": "code",
   "execution_count": null,
   "metadata": {},
   "outputs": [],
   "source": [
    "frames = librosa.util.frame(x_pad, frame_length = win_length, hop_length = hop_length)"
   ]
  },
  {
   "cell_type": "code",
   "execution_count": null,
   "metadata": {},
   "outputs": [],
   "source": [
    "frames.T"
   ]
  },
  {
   "cell_type": "code",
   "execution_count": null,
   "metadata": {},
   "outputs": [],
   "source": [
    "n_frames = int(((len(x_pad) - (win_length - 1) - 1) / hop_length) + 1)\n",
    "n_frames"
   ]
  },
  {
   "cell_type": "markdown",
   "metadata": {},
   "source": [
    "### Framing audio data"
   ]
  },
  {
   "cell_type": "code",
   "execution_count": null,
   "metadata": {
    "id": "Zgb0w4IPcyUk"
   },
   "outputs": [],
   "source": [
    "x_had, sr = librosa.load('SA1.WAV', sr = 16000, mono = True)"
   ]
  },
  {
   "cell_type": "code",
   "execution_count": null,
   "metadata": {},
   "outputs": [],
   "source": [
    "x_had"
   ]
  },
  {
   "cell_type": "code",
   "execution_count": null,
   "metadata": {
    "id": "4YEjyT4jfG8i"
   },
   "outputs": [],
   "source": [
    "segment_duration = 20e-3\n",
    "hop_duration = 10e-3 # 10ms/20ms = 50%\n",
    "\n",
    "frame_length = int(segment_duration * sr)\n",
    "hop_length = int(hop_duration * sr)"
   ]
  },
  {
   "cell_type": "code",
   "execution_count": null,
   "metadata": {},
   "outputs": [],
   "source": [
    "frame_length"
   ]
  },
  {
   "cell_type": "code",
   "execution_count": null,
   "metadata": {},
   "outputs": [],
   "source": [
    "hop_length"
   ]
  },
  {
   "cell_type": "code",
   "execution_count": null,
   "metadata": {},
   "outputs": [],
   "source": [
    "x_had_pad = np.pad(x_had, (frame_length//2, frame_length//2), 'constant', constant_values=(0,0))"
   ]
  },
  {
   "cell_type": "code",
   "execution_count": null,
   "metadata": {
    "id": "4YEjyT4jfG8i"
   },
   "outputs": [],
   "source": [
    "frames = librosa.util.frame(x_had_pad, frame_length=frame_length, hop_length=hop_length)"
   ]
  },
  {
   "cell_type": "code",
   "execution_count": null,
   "metadata": {
    "id": "CI4APGRAgFXX"
   },
   "outputs": [],
   "source": [
    "frames.shape"
   ]
  },
  {
   "cell_type": "markdown",
   "metadata": {},
   "source": [
    "## Time Domain Methods in Speech Processing"
   ]
  },
  {
   "cell_type": "markdown",
   "metadata": {},
   "source": [
    "###  Short-time parameters in the time domain:\n",
    "– short-time energy\n",
    "\n",
    "– short-time average magnitude\n",
    "\n",
    "– short-time zero crossing rate\n",
    "\n",
    "– short-time autocorrelation\n",
    "\n",
    "– modified short-time autocorrelation\n",
    "\n",
    "– short-time average magnitude difference function"
   ]
  },
  {
   "cell_type": "markdown",
   "metadata": {},
   "source": [
    "**Exercício Resolvido**\n",
    "\n",
    "Abrir o arquivo monofônico *SA1.WAV* utilizando a biblioteca librosa com frequência de amostragem igual a 16 kHz.\n",
    "\n",
    "Implementar uma função que realiza a **segmentação** do arquivo em **blocos de 20 ms** com sobreposição de **10 ms** (i.e., 50%) e calcule o somatório do valor médio absoluto de cada segmento ($\\text{MA}\\left[ k \\right]=\\frac{1}{N}\\sum\\limits_{n=0}^{N-1}{|s\\left[ n \\right]|}$, para $k = 0, 1, \\cdots, K - 1$, no qual $K$ é o número de seguimentos e $N$ é o número de amostras de cada seguimento). Considere índice centralizado e janelamento retangular."
   ]
  },
  {
   "cell_type": "code",
   "execution_count": null,
   "metadata": {},
   "outputs": [],
   "source": [
    "frames"
   ]
  },
  {
   "cell_type": "code",
   "execution_count": null,
   "metadata": {},
   "outputs": [],
   "source": [
    "frames.shape"
   ]
  },
  {
   "cell_type": "code",
   "execution_count": null,
   "metadata": {},
   "outputs": [],
   "source": [
    "magnitude = np.mean(np.abs(frames), axis = 0)"
   ]
  },
  {
   "cell_type": "code",
   "execution_count": null,
   "metadata": {},
   "outputs": [],
   "source": [
    "magnitude.shape"
   ]
  },
  {
   "cell_type": "code",
   "execution_count": null,
   "metadata": {},
   "outputs": [],
   "source": [
    "t_frame = np.arange(0,magnitude.shape[0])*hop_duration"
   ]
  },
  {
   "cell_type": "code",
   "execution_count": null,
   "metadata": {},
   "outputs": [],
   "source": [
    "t_frame"
   ]
  },
  {
   "cell_type": "code",
   "execution_count": null,
   "metadata": {},
   "outputs": [],
   "source": [
    "t_frame.shape"
   ]
  },
  {
   "cell_type": "code",
   "execution_count": null,
   "metadata": {},
   "outputs": [],
   "source": [
    "fig = plt.figure(figsize=(14, 9)) \n",
    "ax1 = fig.subplots() \n",
    "ax2 = ax1.twinx()\n",
    "librosa.display.waveshow(x_had,sr=sr, ax=ax1)\n",
    "ax1.set_xlabel(\"Time (s)\")\n",
    "ax1.set_ylabel('Amplitude')\n",
    "ax2.plot(t_frame, magnitude, '-r')\n",
    "ax2.set_ylim(ymin=-np.max(magnitude), ymax=np.max(magnitude))\n",
    "ax2.set_ylabel('MA', rotation=-90)"
   ]
  },
  {
   "cell_type": "code",
   "execution_count": null,
   "metadata": {},
   "outputs": [],
   "source": [
    "# Implementação com laços"
   ]
  },
  {
   "cell_type": "code",
   "execution_count": null,
   "metadata": {},
   "outputs": [],
   "source": [
    "frames.shape"
   ]
  },
  {
   "cell_type": "code",
   "execution_count": null,
   "metadata": {},
   "outputs": [],
   "source": [
    "N = frames.shape[0]\n",
    "K = frames.shape[1]\n",
    "\n",
    "magnitude_loop = np.zeros(K)\n",
    "\n",
    "for k in range(K):\n",
    "    for i in range(N):\n",
    "        magnitude_loop[k] = magnitude_loop[k] + np.abs(frames[i, k])\n",
    "    magnitude_loop[k] = magnitude_loop[k]/N"
   ]
  },
  {
   "cell_type": "code",
   "execution_count": null,
   "metadata": {},
   "outputs": [],
   "source": [
    "magnitude[0:10]"
   ]
  },
  {
   "cell_type": "code",
   "execution_count": null,
   "metadata": {},
   "outputs": [],
   "source": [
    "magnitude_loop[0:10]"
   ]
  },
  {
   "cell_type": "code",
   "execution_count": null,
   "metadata": {},
   "outputs": [],
   "source": [
    "np.equal(magnitude, magnitude_loop) # , dtype=np.float64"
   ]
  },
  {
   "cell_type": "markdown",
   "metadata": {},
   "source": [
    "Implementar uma função que realiza a **segmentação** do arquivo em **blocos de 10 ms** com sobreposição de **5 ms** (i.e., 50%) e calcule o somatório do valor médio absoluto de cada segmento . Considere índice centralizado e janelamento retangular."
   ]
  },
  {
   "cell_type": "code",
   "execution_count": null,
   "metadata": {},
   "outputs": [],
   "source": [
    "segment_duration = 10e-3\n",
    "hop_duration = 5e-3\n",
    "\n",
    "frame_length = int(segment_duration * sr)\n",
    "hop_length = int(hop_duration * sr)"
   ]
  },
  {
   "cell_type": "code",
   "execution_count": null,
   "metadata": {},
   "outputs": [],
   "source": [
    "x_had_pad = np.pad(x_had, (frame_length//2, frame_length//2), 'constant', constant_values=(0,0))\n",
    "frames = librosa.util.frame(x_had_pad, frame_length=frame_length, hop_length=hop_length)"
   ]
  },
  {
   "cell_type": "code",
   "execution_count": null,
   "metadata": {},
   "outputs": [],
   "source": [
    "frames.shape"
   ]
  },
  {
   "cell_type": "code",
   "execution_count": null,
   "metadata": {},
   "outputs": [],
   "source": [
    "magnitude = np.mean(np.abs(frames), axis = 0)\n",
    "t_frame = np.arange(0,magnitude.shape[0])*hop_duration"
   ]
  },
  {
   "cell_type": "code",
   "execution_count": null,
   "metadata": {},
   "outputs": [],
   "source": [
    "fig = plt.figure(figsize=(14, 9)) \n",
    "ax1 = fig.subplots() \n",
    "ax2 = ax1.twinx()\n",
    "librosa.display.waveshow(x_had,sr=sr, ax=ax1)\n",
    "ax1.set_xlabel(\"Time (s)\")\n",
    "ax1.set_ylabel('Amplitude')\n",
    "ax2.plot(t_frame, magnitude, '-r')\n",
    "ax2.set_ylim(ymin=-np.max(magnitude), ymax=np.max(magnitude))\n",
    "ax2.set_ylabel('MA', rotation=-90)"
   ]
  },
  {
   "cell_type": "markdown",
   "metadata": {},
   "source": [
    "**Exercício 1**\n",
    "\n",
    "Abrir o arquivo monofônico *SA1.WAV* utilizando a biblioteca librosa com frequência de amostragem igual a 16 kHz.\n",
    "\n",
    "Implementar uma função que realiza a **segmentação** do arquivo em **blocos de 20 ms** com sobreposição de **10 ms** (i.e., 50%) e calcule o somatório do valor da energia de cada segmento ($\\text{E}\\left[ k \\right]=\\frac{1}{N}\\sum\\limits_{n=0}^{N-1}{s^2\\left[ n \\right]}$, para $k = 0, 1, \\cdots, K - 1$, no qual $K$ é o número de seguimentos e $N$ é o número de amostras de cada seguimento). Considere índice centralizado e janelamento retangular."
   ]
  },
  {
   "cell_type": "code",
   "execution_count": null,
   "metadata": {},
   "outputs": [],
   "source": []
  },
  {
   "cell_type": "code",
   "execution_count": null,
   "metadata": {},
   "outputs": [],
   "source": []
  },
  {
   "cell_type": "code",
   "execution_count": null,
   "metadata": {},
   "outputs": [],
   "source": []
  },
  {
   "cell_type": "markdown",
   "metadata": {},
   "source": [
    "**Exercício 2**\n",
    "\n",
    "Abrir o arquivo monofônico *SA1.WAV* utilizando a biblioteca librosa com frequência de amostragem igual a 16 kHz.\n",
    "\n",
    "Implementar uma função que realiza a **segmentação** do arquivo em **blocos de 20 ms** com sobreposição de **10 ms** (i.e., 50%) e calcule a taxa de cruzamento por zero de cada segmento ($\\text{ZCR}\\left[ k \\right]=\\frac{1}{N}\\sum\\limits_{n=0}^{N-1}{|\\text{sgn}[x[n]] - \\text{sgn}[x[n-1]]|}$, para $k = 0, 1, \\cdots, K - 1$, no qual $K$ é o número de seguimentos e $N$ é o número de amostras de cada seguimento). Considere índice centralizado e janelamento retangular."
   ]
  },
  {
   "cell_type": "code",
   "execution_count": null,
   "metadata": {},
   "outputs": [],
   "source": []
  },
  {
   "cell_type": "code",
   "execution_count": null,
   "metadata": {},
   "outputs": [],
   "source": []
  },
  {
   "cell_type": "code",
   "execution_count": null,
   "metadata": {},
   "outputs": [],
   "source": []
  },
  {
   "cell_type": "markdown",
   "metadata": {},
   "source": [
    "**Exercício 3**\n",
    "\n",
    "Relacione os valores da taxa de cruzamento por zero e energia para distinguir sons vozeados, não-vozeados/surdos e silêncio."
   ]
  },
  {
   "cell_type": "code",
   "execution_count": null,
   "metadata": {},
   "outputs": [],
   "source": []
  },
  {
   "cell_type": "code",
   "execution_count": null,
   "metadata": {},
   "outputs": [],
   "source": []
  },
  {
   "cell_type": "code",
   "execution_count": null,
   "metadata": {},
   "outputs": [],
   "source": []
  },
  {
   "cell_type": "markdown",
   "metadata": {},
   "source": [
    "**Exercício 4**\n",
    "\n",
    "Um método para estimar a frequência fundamental*, F0, é pela função de autocorrelação. Considerando um segmento de $N$ amostras de um sinal de voz, $s[n]$, sua função de autocorrelação, $R[m]$, pode ser calculada por: $R\\left[ m \\right]=\\sum\\limits_{n=0}^{N-1-m}{s\\left[ n \\right]s\\left[ n+m \\right]} $ , para $m = 0, 1, \\cdots, N - 1$. O pico principal na função de autocorrelação está em $m = 0$, localização do zerolag. A distância entre o primeiro máximo e o segundo máximo representa o período (lag) e, consequentemente, dividindo-se o valor da frequência de amostragem pelo lag se obtém uma estimativa do valor de F0. \n",
    "\n",
    "Implemente o algoritmo em Python ou MATLAB e utilize um segmento janelado de uma região vozeada do arquivo com o enunciado ``She had your dark suit...'' para estimar o valor de F0.\n",
    "\n",
    "*Existem variações nos algoritmos de estimação, que podem ser utilizados para a solução deste exercício.\n",
    "\n",
    "\n"
   ]
  },
  {
   "cell_type": "code",
   "execution_count": null,
   "metadata": {},
   "outputs": [],
   "source": []
  },
  {
   "cell_type": "code",
   "execution_count": null,
   "metadata": {},
   "outputs": [],
   "source": []
  },
  {
   "cell_type": "code",
   "execution_count": null,
   "metadata": {},
   "outputs": [],
   "source": []
  }
 ],
 "metadata": {
  "colab": {
   "collapsed_sections": [],
   "name": "1_Python_Librosa.ipynb",
   "provenance": []
  },
  "kernelspec": {
   "display_name": "Python 3 (ipykernel)",
   "language": "python",
   "name": "python3"
  },
  "language_info": {
   "codemirror_mode": {
    "name": "ipython",
    "version": 3
   },
   "file_extension": ".py",
   "mimetype": "text/x-python",
   "name": "python",
   "nbconvert_exporter": "python",
   "pygments_lexer": "ipython3",
   "version": "3.10.9"
  }
 },
 "nbformat": 4,
 "nbformat_minor": 4
}
